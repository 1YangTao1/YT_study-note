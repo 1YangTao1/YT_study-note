{
 "cells": [
  {
   "cell_type": "code",
   "execution_count": 3,
   "metadata": {},
   "outputs": [],
   "source": [
    "import os\n",
    "import tarfile\n",
    "import urllib"
   ]
  },
  {
   "cell_type": "code",
   "execution_count": 9,
   "metadata": {},
   "outputs": [],
   "source": [
    "Download_root = \"https://raw.githubusercontent.com/ageron/handson-ml2/master/\"\n",
    "Housing_path = os.path.join(\"datasets\",\"housing\")\n",
    "#连接两个或更多的路径名组件\n",
    "Housing_url = download_root + \"datasets/housing/housing.tgz\""
   ]
  },
  {
   "cell_type": "code",
   "execution_count": 15,
   "metadata": {},
   "outputs": [
    {
     "name": "stdout",
     "output_type": "stream",
     "text": [
      "<tarfile.TarFile object at 0x0000024CBF9EA248>\n"
     ]
    }
   ],
   "source": [
    "def fetch_housing_data(housing_url=Housing_url,housing_path=Housing_path):\n",
    "    os.makedirs(housing_path,exist_ok = True)\n",
    "    tgz_path = os.path.join(housing_path,\"housing.tgz\")\n",
    "    urllib.request.urlretrieve(housing_url,tgz_path)\n",
    "    #将URL表示的网络对象复制到本地文件\n",
    "    housing_tgz = tarfile.open(tgz_path)\n",
    "    print(housing_tgz)\n",
    "    housing_tgz.extractall(path=housing_path)\n",
    "    #解压文件\n",
    "    housing_tgz.close()\n",
    "fetch_housing_data()"
   ]
  },
  {
   "cell_type": "code",
   "execution_count": null,
   "metadata": {},
   "outputs": [],
   "source": []
  },
  {
   "cell_type": "code",
   "execution_count": null,
   "metadata": {},
   "outputs": [],
   "source": []
  },
  {
   "cell_type": "code",
   "execution_count": null,
   "metadata": {},
   "outputs": [],
   "source": []
  }
 ],
 "metadata": {
  "kernelspec": {
   "display_name": "Python 3",
   "language": "python",
   "name": "python3"
  },
  "language_info": {
   "codemirror_mode": {
    "name": "ipython",
    "version": 3
   },
   "file_extension": ".py",
   "mimetype": "text/x-python",
   "name": "python",
   "nbconvert_exporter": "python",
   "pygments_lexer": "ipython3",
   "version": "3.7.9"
  }
 },
 "nbformat": 4,
 "nbformat_minor": 4
}
